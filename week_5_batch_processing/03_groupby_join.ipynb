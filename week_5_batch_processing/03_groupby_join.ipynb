{
 "cells": [
  {
   "cell_type": "code",
   "execution_count": 1,
   "metadata": {},
   "outputs": [],
   "source": [
    "import pyspark\n",
    "from pyspark.sql import SparkSession\n",
    "from pyspark.sql import functions as F\n",
    "from pyspark.sql import types\n",
    "import warnings\n",
    "warnings.filterwarnings(\"ignore\")"
   ]
  },
  {
   "cell_type": "code",
   "execution_count": 2,
   "metadata": {},
   "outputs": [
    {
     "name": "stderr",
     "output_type": "stream",
     "text": [
      "Setting default log level to \"WARN\".\n",
      "To adjust logging level use sc.setLogLevel(newLevel). For SparkR, use setLogLevel(newLevel).\n"
     ]
    },
    {
     "name": "stdout",
     "output_type": "stream",
     "text": [
      "23/01/21 12:44:04 WARN NativeCodeLoader: Unable to load native-hadoop library for your platform... using builtin-java classes where applicable\n"
     ]
    }
   ],
   "source": [
    "spark = SparkSession.builder \\\n",
    "    .master('local[*]') \\\n",
    "        .appName('test') \\\n",
    "            .getOrCreate()"
   ]
  },
  {
   "cell_type": "code",
   "execution_count": 4,
   "metadata": {},
   "outputs": [
    {
     "name": "stderr",
     "output_type": "stream",
     "text": [
      "                                                                                \r"
     ]
    }
   ],
   "source": [
    "df_green = spark.read.parquet('data/raw/green/*/*')\n",
    "df_green.registerTempTable('green')"
   ]
  },
  {
   "cell_type": "code",
   "execution_count": 6,
   "metadata": {},
   "outputs": [],
   "source": [
    "df_green_revenue = spark.sql(\"\"\"\n",
    "SELECT \n",
    "    date_trunc('hour', lpep_pickup_datetime) AS hour, \n",
    "    PULocationID AS zone,\n",
    "\n",
    "    SUM(total_amount) AS amount,\n",
    "    COUNT(1) AS number_records\n",
    "FROM\n",
    "    green\n",
    "WHERE\n",
    "    lpep_pickup_datetime >= '2020-01-01 00:00:00'\n",
    "GROUP BY\n",
    "    1, 2\n",
    "\"\"\")"
   ]
  },
  {
   "cell_type": "code",
   "execution_count": 7,
   "metadata": {},
   "outputs": [
    {
     "name": "stderr",
     "output_type": "stream",
     "text": [
      "[Stage 1:>                                                          (0 + 2) / 2]\r"
     ]
    },
    {
     "name": "stdout",
     "output_type": "stream",
     "text": [
      "+-------------------+----+------------------+--------------+\n",
      "|               hour|zone|            amount|number_records|\n",
      "+-------------------+----+------------------+--------------+\n",
      "|2020-01-01 01:00:00|  24|126.41999999999999|             6|\n",
      "|2020-01-01 05:00:00| 244|             25.26|             2|\n",
      "|2020-01-01 07:00:00| 112|             66.76|             3|\n",
      "|2020-01-01 10:00:00| 169|              6.12|             1|\n",
      "|2020-01-01 11:00:00| 193|              14.3|             2|\n",
      "|2020-01-01 15:00:00|  25|            192.12|            11|\n",
      "|2020-01-01 19:00:00| 196|36.400000000000006|             3|\n",
      "|2020-01-02 14:00:00| 228|             96.46|             4|\n",
      "|2020-01-02 20:00:00| 146|             15.66|             2|\n",
      "|2020-01-02 23:00:00|  52|              21.3|             1|\n",
      "|2020-01-03 03:00:00| 179|               7.3|             1|\n",
      "|2020-01-03 08:00:00| 212|              16.8|             1|\n",
      "|2020-01-03 10:00:00|  29|             163.8|             7|\n",
      "|2020-01-03 11:00:00| 122|              10.8|             1|\n",
      "|2020-01-03 12:00:00| 182|             67.19|             5|\n",
      "|2020-01-03 13:00:00| 129|318.46999999999997|            25|\n",
      "|2020-01-03 14:00:00|   7| 583.3200000000002|            32|\n",
      "|2020-01-03 13:00:00| 173|            120.75|             4|\n",
      "|2020-01-03 18:00:00|  60|              11.8|             1|\n",
      "|2020-01-03 19:00:00|  93|              12.8|             1|\n",
      "+-------------------+----+------------------+--------------+\n",
      "only showing top 20 rows\n",
      "\n"
     ]
    },
    {
     "name": "stderr",
     "output_type": "stream",
     "text": [
      "                                                                                \r"
     ]
    }
   ],
   "source": [
    "df_green_revenue.show()"
   ]
  },
  {
   "cell_type": "code",
   "execution_count": 8,
   "metadata": {},
   "outputs": [
    {
     "name": "stderr",
     "output_type": "stream",
     "text": [
      "                                                                                \r"
     ]
    }
   ],
   "source": [
    "df_green_revenue \\\n",
    "    .repartition(20) \\\n",
    "    .write.parquet('data/report/revenue/green', mode='overwrite')"
   ]
  },
  {
   "cell_type": "code",
   "execution_count": 9,
   "metadata": {},
   "outputs": [],
   "source": [
    "df_yellow = spark.read.parquet('data/raw/yellow/*/*')\n",
    "df_yellow.registerTempTable('yellow')"
   ]
  },
  {
   "cell_type": "code",
   "execution_count": 10,
   "metadata": {},
   "outputs": [],
   "source": [
    "df_yellow_revenue = spark.sql(\"\"\"\n",
    "SELECT \n",
    "    date_trunc('hour', tpep_pickup_datetime) AS hour, \n",
    "    PULocationID AS zone,\n",
    "\n",
    "    SUM(total_amount) AS amount,\n",
    "    COUNT(1) AS number_records\n",
    "FROM\n",
    "    yellow\n",
    "WHERE\n",
    "    tpep_pickup_datetime >= '2020-01-01 00:00:00'\n",
    "GROUP BY\n",
    "    1, 2\n",
    "\"\"\")"
   ]
  },
  {
   "cell_type": "code",
   "execution_count": 11,
   "metadata": {},
   "outputs": [
    {
     "name": "stderr",
     "output_type": "stream",
     "text": [
      "[Stage 11:===================================================>      (8 + 1) / 9]\r"
     ]
    },
    {
     "name": "stdout",
     "output_type": "stream",
     "text": [
      "+-------------------+----+------------------+--------------+\n",
      "|               hour|zone|            amount|number_records|\n",
      "+-------------------+----+------------------+--------------+\n",
      "|2020-01-01 01:00:00|  24| 783.8999999999999|            44|\n",
      "|2020-01-01 04:00:00| 202|              42.1|             2|\n",
      "|2020-01-01 05:00:00| 244|185.17000000000004|            17|\n",
      "|2020-01-01 05:00:00|  71|             49.71|             1|\n",
      "|2020-01-01 07:00:00|  48|           2857.21|           120|\n",
      "|2020-01-01 07:00:00| 179|            119.05|             7|\n",
      "|2020-01-01 09:00:00|  93|287.46000000000004|             4|\n",
      "|2020-01-01 10:00:00| 169|              19.1|             2|\n",
      "|2020-01-01 11:00:00| 193|            105.66|             4|\n",
      "|2020-01-01 15:00:00|  25|             14.52|             1|\n",
      "|2020-01-01 19:00:00| 196|             152.8|             2|\n",
      "|2020-01-01 21:00:00| 157|             61.42|             1|\n",
      "|2020-01-02 03:00:00| 143| 82.77999999999999|             4|\n",
      "|2020-01-02 04:00:00| 262|159.72000000000003|             6|\n",
      "|2020-01-02 08:00:00| 217|              20.3|             1|\n",
      "|2020-01-02 11:00:00| 211| 1003.139999999999|            59|\n",
      "|2020-01-02 12:00:00| 125| 797.1299999999998|            50|\n",
      "|2020-01-02 13:00:00|  50|1099.9099999999992|            70|\n",
      "|2020-01-02 13:00:00| 113| 1869.119999999998|           133|\n",
      "|2020-01-02 14:00:00| 163| 5962.800000000019|           335|\n",
      "+-------------------+----+------------------+--------------+\n",
      "only showing top 20 rows\n",
      "\n"
     ]
    },
    {
     "name": "stderr",
     "output_type": "stream",
     "text": [
      "                                                                                \r"
     ]
    }
   ],
   "source": [
    "df_yellow_revenue.show()"
   ]
  },
  {
   "cell_type": "code",
   "execution_count": 12,
   "metadata": {},
   "outputs": [
    {
     "name": "stderr",
     "output_type": "stream",
     "text": [
      "                                                                                \r"
     ]
    }
   ],
   "source": [
    "df_yellow_revenue \\\n",
    "    .repartition(20) \\\n",
    "    .write.parquet('data/report/revenue/yellow', mode='overwrite')"
   ]
  },
  {
   "cell_type": "code",
   "execution_count": 13,
   "metadata": {},
   "outputs": [],
   "source": [
    "df_green_revenue = spark.read.parquet('data/report/revenue/green')\n",
    "df_yellow_revenue = spark.read.parquet('data/report/revenue/yellow')"
   ]
  },
  {
   "cell_type": "code",
   "execution_count": 14,
   "metadata": {},
   "outputs": [],
   "source": [
    "df_green_revenue_tmp = df_green_revenue \\\n",
    "    .withColumnRenamed('amount', 'green_amount') \\\n",
    "    .withColumnRenamed('number_records', 'green_number_records')\n",
    "\n",
    "df_yellow_revenue_tmp = df_yellow_revenue \\\n",
    "    .withColumnRenamed('amount', 'yellow_amount') \\\n",
    "    .withColumnRenamed('number_records', 'yellow_number_records')"
   ]
  },
  {
   "cell_type": "code",
   "execution_count": 15,
   "metadata": {},
   "outputs": [],
   "source": [
    "df_join = df_green_revenue_tmp.join(df_yellow_revenue_tmp, on=['hour', 'zone'], how='outer')"
   ]
  },
  {
   "cell_type": "code",
   "execution_count": 16,
   "metadata": {},
   "outputs": [
    {
     "name": "stderr",
     "output_type": "stream",
     "text": [
      "[Stage 26:>                                                         (0 + 1) / 1]\r"
     ]
    },
    {
     "name": "stdout",
     "output_type": "stream",
     "text": [
      "+-------------------+----+------------------+--------------------+------------------+---------------------+\n",
      "|               hour|zone|      green_amount|green_number_records|     yellow_amount|yellow_number_records|\n",
      "+-------------------+----+------------------+--------------------+------------------+---------------------+\n",
      "|2020-01-01 00:00:00|   3|              null|                null|              25.0|                    1|\n",
      "|2020-01-01 00:00:00|  10|              null|                null|             42.41|                    2|\n",
      "|2020-01-01 00:00:00|  14|              null|                null|               8.8|                    1|\n",
      "|2020-01-01 00:00:00|  15|              null|                null|             34.09|                    1|\n",
      "|2020-01-01 00:00:00|  17|            195.03|                   9|220.20999999999998|                    8|\n",
      "|2020-01-01 00:00:00|  18|               7.8|                   1|               5.8|                    1|\n",
      "|2020-01-01 00:00:00|  24|              87.6|                   3| 754.9499999999997|                   45|\n",
      "|2020-01-01 00:00:00|  32| 68.94999999999999|                   2|              18.0|                    1|\n",
      "|2020-01-01 00:00:00|  35|            129.96|                   5|              null|                 null|\n",
      "|2020-01-01 00:00:00|  36|295.34000000000003|                  11|            109.17|                    3|\n",
      "|2020-01-01 00:00:00|  37|            175.67|                   6|            161.61|                    7|\n",
      "|2020-01-01 00:00:00|  38| 98.78999999999999|                   2|              null|                 null|\n",
      "|2020-01-01 00:00:00|  42| 799.7600000000002|                  52| 635.3500000000001|                   46|\n",
      "|2020-01-01 00:00:00|  45|              null|                null| 732.4799999999997|                   42|\n",
      "|2020-01-01 00:00:00|  50|              null|                null|  4177.48000000001|                  183|\n",
      "|2020-01-01 00:00:00|  55|            129.29|                   4|              null|                 null|\n",
      "|2020-01-01 00:00:00|  65|            199.49|                  10| 409.3500000000001|                   19|\n",
      "|2020-01-01 00:00:00|  66|            386.75|                  18|            260.55|                   10|\n",
      "|2020-01-01 00:00:00|  68|              null|                null| 7825.070000000024|                  396|\n",
      "|2020-01-01 00:00:00|  69|              11.8|                   1|106.52000000000001|                    4|\n",
      "+-------------------+----+------------------+--------------------+------------------+---------------------+\n",
      "only showing top 20 rows\n",
      "\n"
     ]
    },
    {
     "name": "stderr",
     "output_type": "stream",
     "text": [
      "                                                                                \r"
     ]
    }
   ],
   "source": [
    "df_join.show()"
   ]
  },
  {
   "cell_type": "code",
   "execution_count": 17,
   "metadata": {},
   "outputs": [
    {
     "name": "stderr",
     "output_type": "stream",
     "text": [
      "                                                                                \r"
     ]
    }
   ],
   "source": [
    "df_join.write.parquet('data/report/revenue/total', mode='overwrite')"
   ]
  },
  {
   "cell_type": "code",
   "execution_count": null,
   "metadata": {},
   "outputs": [],
   "source": []
  }
 ],
 "metadata": {
  "kernelspec": {
   "display_name": "Python 3",
   "language": "python",
   "name": "python3"
  },
  "language_info": {
   "codemirror_mode": {
    "name": "ipython",
    "version": 3
   },
   "file_extension": ".py",
   "mimetype": "text/x-python",
   "name": "python",
   "nbconvert_exporter": "python",
   "pygments_lexer": "ipython3",
   "version": "3.8.10"
  },
  "orig_nbformat": 4,
  "vscode": {
   "interpreter": {
    "hash": "916dbcbb3f70747c44a77c7bcd40155683ae19c65e1c03b4aa3499c5328201f1"
   }
  }
 },
 "nbformat": 4,
 "nbformat_minor": 2
}
